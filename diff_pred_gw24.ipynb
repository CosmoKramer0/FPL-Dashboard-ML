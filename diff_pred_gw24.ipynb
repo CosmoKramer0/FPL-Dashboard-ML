{
 "cells": [
  {
   "cell_type": "code",
   "execution_count": 5,
   "metadata": {},
   "outputs": [
    {
     "name": "stdout",
     "output_type": "stream",
     "text": [
      "Missing values per column:\n",
      "now_cost               0\n",
      "expected_goals         0\n",
      "expected_assists       0\n",
      "total_points           0\n",
      "form                   0\n",
      "minutes                0\n",
      "selected_by_percent    0\n",
      "dtype: int64\n",
      "\n",
      "Rows with missing values:\n",
      "Empty DataFrame\n",
      "Columns: [assists, bonus, bps, can_select, can_transact, chance_of_playing_next_round, chance_of_playing_this_round, clean_sheets, clean_sheets_per_90, code, corners_and_indirect_freekicks_order, corners_and_indirect_freekicks_text, cost_change_event, cost_change_event_fall, cost_change_start, cost_change_start_fall, creativity, creativity_rank, creativity_rank_type, direct_freekicks_order, direct_freekicks_text, dreamteam_count, element_type, ep_next, ep_this, event_points, expected_assists, expected_assists_per_90, expected_goal_involvements, expected_goal_involvements_per_90, expected_goals, expected_goals_conceded, expected_goals_conceded_per_90, expected_goals_per_90, first_name, form, form_rank, form_rank_type, goals_conceded, goals_conceded_per_90, goals_scored, has_temporary_code, ict_index, ict_index_rank, ict_index_rank_type, id, in_dreamteam, influence, influence_rank, influence_rank_type, minutes, mng_clean_sheets, mng_draw, mng_goals_scored, mng_loss, mng_underdog_draw, mng_underdog_win, mng_win, news, news_added, now_cost, now_cost_rank, now_cost_rank_type, opta_code, own_goals, penalties_missed, penalties_order, penalties_saved, penalties_text, photo, points_per_game, points_per_game_rank, points_per_game_rank_type, red_cards, region, removed, saves, saves_per_90, second_name, selected_by_percent, selected_rank, selected_rank_type, special, squad_number, starts, starts_per_90, status, team, team_code, team_join_date, threat, threat_rank, threat_rank_type, total_points, transfers_in, transfers_in_event, transfers_out, transfers_out_event, value_form, value_season, ...]\n",
      "Index: []\n",
      "\n",
      "[0 rows x 102 columns]\n",
      "\n",
      "Data shape after dropping rows with missing values:\n",
      "(756, 7)\n",
      "Scaling complete!\n"
     ]
    }
   ],
   "source": [
    "import pandas as pd\n",
    "from sklearn.preprocessing import StandardScaler\n",
    "\n",
    "# Load 2024-25 GW1 data\n",
    "df_new = pd.read_csv(\"players_raw_24-25_postgw23.csv\")\n",
    "\n",
    "# Select relevant features (same as before)\n",
    "numeric_columns = ['now_cost', 'expected_goals', 'expected_assists', 'total_points', 'form', 'minutes', 'selected_by_percent']\n",
    "\n",
    "# Ensure all selected columns are numeric and check for coercion\n",
    "df_new[numeric_columns] = df_new[numeric_columns].apply(pd.to_numeric, errors='coerce')\n",
    "\n",
    "# Check how many NaN values exist in each column after coercion\n",
    "print(\"Missing values per column:\")\n",
    "print(df_new[numeric_columns].isnull().sum())\n",
    "\n",
    "# Inspect rows that have NaN values\n",
    "print(\"\\nRows with missing values:\")\n",
    "print(df_new[df_new[numeric_columns].isnull().any(axis=1)])\n",
    "\n",
    "# Drop rows with missing values after conversion\n",
    "df_new = df_new.dropna(subset=numeric_columns)\n",
    "\n",
    "# Check if we still have data left\n",
    "print(\"\\nData shape after dropping rows with missing values:\")\n",
    "print(df_new[numeric_columns].shape)\n",
    "\n",
    "# Scale the new data using the same scaler if there are rows left\n",
    "if df_new.shape[0] > 0:\n",
    "    scaler = StandardScaler()\n",
    "    df_new[numeric_columns] = scaler.fit_transform(df_new[numeric_columns])\n",
    "    print(\"Scaling complete!\")\n",
    "else:\n",
    "    print(\"No data available after dropping missing values.\")\n"
   ]
  },
  {
   "cell_type": "code",
   "execution_count": 6,
   "metadata": {},
   "outputs": [
    {
     "name": "stdout",
     "output_type": "stream",
     "text": [
      "\n",
      "Top Differential Players (K-Means Clustering):\n",
      "          web_name  selected_by_percent  expected_goals  expected_assists  \\\n",
      "1          G.Jesus            -0.112276        1.102373         -0.065861   \n",
      "5         J.Timber             0.376087       -0.099882          0.409541   \n",
      "15          Thomas            -0.222551        0.295732          0.952859   \n",
      "23       Calafiori            -0.143783       -0.120434         -0.027053   \n",
      "25          Merino            -0.317073        0.686208          0.108776   \n",
      "..             ...                  ...             ...               ...   \n",
      "740       N.Semedo            -0.301319       -0.166674          0.380435   \n",
      "744        S.Bueno            -0.317073       -0.233466         -0.492754   \n",
      "746  Strand Larsen            -0.049261        2.689967         -0.036755   \n",
      "747           Toti            -0.301319       -0.449256         -0.211393   \n",
      "749          André            -0.332827       -0.428704         -0.356924   \n",
      "\n",
      "         form  total_points  \n",
      "1    0.775757      0.544212  \n",
      "5    0.282550      1.499458  \n",
      "15   0.775757      1.372091  \n",
      "23   0.282550      0.257638  \n",
      "25   0.874399      0.416846  \n",
      "..        ...           ...  \n",
      "740 -0.210657      0.416846  \n",
      "744 -0.013374      0.162114  \n",
      "746  0.282550      1.881556  \n",
      "747 -0.605222      0.289480  \n",
      "749 -0.013374      0.162114  \n",
      "\n",
      "[206 rows x 6 columns]\n"
     ]
    }
   ],
   "source": [
    "from sklearn.cluster import KMeans\n",
    "\n",
    "# Apply K-Means model (use the same number of clusters as before)\n",
    "kmeans = KMeans(n_clusters=4, random_state=42)  \n",
    "df_new['cluster'] = kmeans.fit_predict(df_new[numeric_columns])\n",
    "\n",
    "# Extract differentials (low-ownership, high potential)\n",
    "differentials_new = df_new[(df_new['cluster'] == 0) & (df_new['selected_by_percent'] < 10)]\n",
    "\n",
    "print(\"\\nTop Differential Players (K-Means Clustering):\")\n",
    "print(differentials_new[['web_name', 'selected_by_percent', 'expected_goals', 'expected_assists', 'form', 'total_points']])\n"
   ]
  },
  {
   "cell_type": "code",
   "execution_count": 7,
   "metadata": {},
   "outputs": [
    {
     "name": "stdout",
     "output_type": "stream",
     "text": [
      "\n",
      "Top Differential Players (Isolation Forest):\n",
      "          web_name  selected_by_percent  expected_goals  expected_assists  \\\n",
      "2          Gabriel             4.093943        0.824930          0.409541   \n",
      "3          Havertz             0.895956        4.108012          0.768519   \n",
      "8       Martinelli             0.218550        1.523677          2.243237   \n",
      "10        Ødegaard             0.439101        1.066408          2.621619   \n",
      "11            Raya             3.999421       -0.464669         -0.560668   \n",
      "..             ...                  ...             ...               ...   \n",
      "662            Son             0.439101        2.186458          3.067915   \n",
      "686          Bowen             0.092521        1.980945          3.620935   \n",
      "712         Potter            -0.238305       -0.464669         -0.570370   \n",
      "722          Cunha             0.927464        2.022047          3.029107   \n",
      "746  Strand Larsen            -0.049261        2.689967         -0.036755   \n",
      "\n",
      "         form  total_points  \n",
      "2    0.677116      2.136288  \n",
      "3    0.381192      1.881556  \n",
      "8    1.466247      1.881556  \n",
      "10   0.677116      0.926310  \n",
      "11   1.071681      2.072605  \n",
      "..        ...           ...  \n",
      "662  0.973040      2.199971  \n",
      "686 -0.605222      2.072605  \n",
      "712  3.833640     -0.506558  \n",
      "722 -0.013374      2.900484  \n",
      "746  0.282550      1.881556  \n",
      "\n",
      "[76 rows x 6 columns]\n"
     ]
    }
   ],
   "source": [
    "from sklearn.ensemble import IsolationForest\n",
    "\n",
    "# Apply Isolation Forest model\n",
    "model = IsolationForest(contamination=0.1)  \n",
    "df_new['anomaly'] = model.fit_predict(df_new[numeric_columns])\n",
    "\n",
    "# Extract anomalies (overperforming differentials)\n",
    "differentials_anomalies_new = df_new[df_new['anomaly'] == -1]\n",
    "\n",
    "print(\"\\nTop Differential Players (Isolation Forest):\")\n",
    "print(differentials_anomalies_new[['web_name', 'selected_by_percent', 'expected_goals', 'expected_assists', 'form', 'total_points']])\n"
   ]
  },
  {
   "cell_type": "code",
   "execution_count": 8,
   "metadata": {},
   "outputs": [
    {
     "name": "stdout",
     "output_type": "stream",
     "text": [
      "\n",
      "🔥 Best Differentials for 2024-2025 FPL Gameweek 24 🔥\n",
      "             web_name  selected_by_percent  expected_goals  expected_assists  \\\n",
      "464           Haaland             4.156957        8.665280          0.661796   \n",
      "461             Foden             1.006232        1.888463          3.989615   \n",
      "130            Mbeumo             4.960392        3.604503          4.387400   \n",
      "532            Gordon             3.621334        3.368163          3.455999   \n",
      "492       B.Fernandes             1.179522        3.465782          3.465701   \n",
      "65            Watkins             2.345290        5.310268          0.778221   \n",
      "94            Semenyo             0.706913        2.782448          2.437279   \n",
      "419  Alexander-Arnold             4.818609        0.013150          5.444929   \n",
      "324             Iwobi             0.754174        1.056133          4.154550   \n",
      "141             Wissa             1.321304        4.827310          0.574477   \n",
      "\n",
      "         form  total_points  differential_score  \n",
      "464  3.439075      3.760205           12.766150  \n",
      "461  5.411902      1.977080           11.289980  \n",
      "130  3.044509      3.887571           11.036413  \n",
      "532  2.255378      2.582069            9.079540  \n",
      "492  2.107416      2.486545            9.038899  \n",
      "65   2.255378      2.868643            8.343866  \n",
      "94   2.945868      2.391020            8.165595  \n",
      "419  1.614209      2.422862            7.072288  \n",
      "324  1.860812      2.550228            7.071495  \n",
      "141  1.663530      2.422862            7.065317  \n"
     ]
    }
   ],
   "source": [
    "# Combine differentials from both models\n",
    "final_differentials = pd.concat([differentials_new, differentials_anomalies_new]).drop_duplicates()\n",
    "\n",
    "# Rank by xG + xA + form\n",
    "final_differentials['differential_score'] = final_differentials['expected_goals'] + final_differentials['expected_assists'] + final_differentials['form']\n",
    "\n",
    "# Apply additional filters:\n",
    "filtered_differentials = final_differentials[\n",
    "    (final_differentials['selected_by_percent'] < 5) &  # Ownership < 5%\n",
    "    (final_differentials['expected_goals'] + final_differentials['expected_assists'] > 5.0) #&  # xG + xA > 5.0\n",
    "    # (final_differentials['form'] > 2.5)  # Form > 2.5\n",
    "]\n",
    "\n",
    "# Sort and pick top 10\n",
    "top_differentials = filtered_differentials.sort_values(by=\"differential_score\", ascending=False).head(10)\n",
    "\n",
    "print(\"\\n🔥 Best Differentials for 2024-2025 FPL Gameweek 24 🔥\")\n",
    "print(top_differentials[['web_name', 'selected_by_percent', 'expected_goals', 'expected_assists', 'form', 'total_points', 'differential_score']])\n"
   ]
  }
 ],
 "metadata": {
  "kernelspec": {
   "display_name": "myenv",
   "language": "python",
   "name": "python3"
  },
  "language_info": {
   "codemirror_mode": {
    "name": "ipython",
    "version": 3
   },
   "file_extension": ".py",
   "mimetype": "text/x-python",
   "name": "python",
   "nbconvert_exporter": "python",
   "pygments_lexer": "ipython3",
   "version": "3.12.2"
  }
 },
 "nbformat": 4,
 "nbformat_minor": 2
}
