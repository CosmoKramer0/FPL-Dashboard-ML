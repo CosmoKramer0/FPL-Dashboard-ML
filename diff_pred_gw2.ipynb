{
 "cells": [
  {
   "cell_type": "code",
   "execution_count": 1,
   "metadata": {},
   "outputs": [
    {
     "name": "stdout",
     "output_type": "stream",
     "text": [
      "Missing values per column:\n",
      "now_cost               0\n",
      "expected_goals         0\n",
      "expected_assists       0\n",
      "total_points           0\n",
      "form                   0\n",
      "minutes                0\n",
      "selected_by_percent    0\n",
      "dtype: int64\n",
      "\n",
      "Rows with missing values:\n",
      "Empty DataFrame\n",
      "Columns: [assists, bonus, bps, chance_of_playing_next_round, chance_of_playing_this_round, clean_sheets, clean_sheets_per_90, code, corners_and_indirect_freekicks_order, corners_and_indirect_freekicks_text, cost_change_event, cost_change_event_fall, cost_change_start, cost_change_start_fall, creativity, creativity_rank, creativity_rank_type, direct_freekicks_order, direct_freekicks_text, dreamteam_count, element_type, ep_next, ep_this, event_points, expected_assists, expected_assists_per_90, expected_goal_involvements, expected_goal_involvements_per_90, expected_goals, expected_goals_conceded, expected_goals_conceded_per_90, expected_goals_per_90, first_name, form, form_rank, form_rank_type, goals_conceded, goals_conceded_per_90, goals_scored, ict_index, ict_index_rank, ict_index_rank_type, id, in_dreamteam, influence, influence_rank, influence_rank_type, minutes, news, news_added, now_cost, now_cost_rank, now_cost_rank_type, own_goals, penalties_missed, penalties_order, penalties_saved, penalties_text, photo, points_per_game, points_per_game_rank, points_per_game_rank_type, red_cards, saves, saves_per_90, second_name, selected_by_percent, selected_rank, selected_rank_type, special, squad_number, starts, starts_per_90, status, team, team_code, threat, threat_rank, threat_rank_type, total_points, transfers_in, transfers_in_event, transfers_out, transfers_out_event, value_form, value_season, web_name, yellow_cards]\n",
      "Index: []\n",
      "\n",
      "[0 rows x 88 columns]\n",
      "\n",
      "Data shape after dropping rows with missing values:\n",
      "(616, 7)\n",
      "Scaling complete!\n"
     ]
    }
   ],
   "source": [
    "import pandas as pd\n",
    "from sklearn.preprocessing import StandardScaler\n",
    "\n",
    "# Load 2024-25 GW1 data\n",
    "df_new = pd.read_csv(\"players_raw_24-25_postgw1.csv\")\n",
    "\n",
    "# Select relevant features (same as before)\n",
    "numeric_columns = ['now_cost', 'expected_goals', 'expected_assists', 'total_points', 'form', 'minutes', 'selected_by_percent']\n",
    "\n",
    "# Ensure all selected columns are numeric and check for coercion\n",
    "df_new[numeric_columns] = df_new[numeric_columns].apply(pd.to_numeric, errors='coerce')\n",
    "\n",
    "# Check how many NaN values exist in each column after coercion\n",
    "print(\"Missing values per column:\")\n",
    "print(df_new[numeric_columns].isnull().sum())\n",
    "\n",
    "# Inspect rows that have NaN values\n",
    "print(\"\\nRows with missing values:\")\n",
    "print(df_new[df_new[numeric_columns].isnull().any(axis=1)])\n",
    "\n",
    "# Drop rows with missing values after conversion\n",
    "df_new = df_new.dropna(subset=numeric_columns)\n",
    "\n",
    "# Check if we still have data left\n",
    "print(\"\\nData shape after dropping rows with missing values:\")\n",
    "print(df_new[numeric_columns].shape)\n",
    "\n",
    "# Scale the new data using the same scaler if there are rows left\n",
    "if df_new.shape[0] > 0:\n",
    "    scaler = StandardScaler()\n",
    "    df_new[numeric_columns] = scaler.fit_transform(df_new[numeric_columns])\n",
    "    print(\"Scaling complete!\")\n",
    "else:\n",
    "    print(\"No data available after dropping missing values.\")\n"
   ]
  },
  {
   "cell_type": "code",
   "execution_count": 2,
   "metadata": {},
   "outputs": [
    {
     "name": "stdout",
     "output_type": "stream",
     "text": [
      "\n",
      "Top Differential Players (K-Means Clustering):\n",
      "         web_name  selected_by_percent  expected_goals  expected_assists  \\\n",
      "0    Fábio Vieira            -0.387445       -0.305782         -0.319426   \n",
      "1         G.Jesus            -0.037355       -0.305782         -0.319426   \n",
      "4            Hein            -0.371531       -0.305782         -0.319426   \n",
      "5        J.Timber            -0.244226       -0.159822         -0.210716   \n",
      "6        Jorginho            -0.339705       -0.305782         -0.319426   \n",
      "..            ...                  ...             ...               ...   \n",
      "608      N.Semedo            -0.387445       -0.305782         -0.319426   \n",
      "609    Pedro Lima            -0.148747       -0.305782         -0.319426   \n",
      "610       Podence            -0.371531       -0.013861         -0.319426   \n",
      "612       S.Bueno            -0.371531       -0.305782         -0.319426   \n",
      "613       Sarabia            -0.355618        0.278059         -0.210716   \n",
      "\n",
      "         form  total_points  \n",
      "0   -0.581349     -0.581349  \n",
      "1   -0.581349     -0.581349  \n",
      "4   -0.581349     -0.581349  \n",
      "5   -0.139782     -0.139782  \n",
      "6   -0.581349     -0.581349  \n",
      "..        ...           ...  \n",
      "608 -0.581349     -0.581349  \n",
      "609 -0.581349     -0.581349  \n",
      "610 -0.139782     -0.139782  \n",
      "612 -0.581349     -0.581349  \n",
      "613 -0.139782     -0.139782  \n",
      "\n",
      "[390 rows x 6 columns]\n"
     ]
    }
   ],
   "source": [
    "from sklearn.cluster import KMeans\n",
    "\n",
    "# Apply K-Means model (use the same number of clusters as before)\n",
    "kmeans = KMeans(n_clusters=4, random_state=42)  \n",
    "df_new['cluster'] = kmeans.fit_predict(df_new[numeric_columns])\n",
    "\n",
    "# Extract differentials (low-ownership, high potential)\n",
    "differentials_new = df_new[(df_new['cluster'] == 0) & (df_new['selected_by_percent'] < 10)]\n",
    "\n",
    "print(\"\\nTop Differential Players (K-Means Clustering):\")\n",
    "print(differentials_new[['web_name', 'selected_by_percent', 'expected_goals', 'expected_assists', 'form', 'total_points']])\n"
   ]
  },
  {
   "cell_type": "code",
   "execution_count": 3,
   "metadata": {},
   "outputs": [
    {
     "name": "stdout",
     "output_type": "stream",
     "text": [
      "\n",
      "Top Differential Players (Isolation Forest):\n",
      "        web_name  selected_by_percent  expected_goals  expected_assists  \\\n",
      "3        Havertz             1.967706        2.978325          0.115417   \n",
      "12      Ødegaard             2.079098       -0.159822          0.332839   \n",
      "14          Raya             3.606764       -0.305782         -0.319426   \n",
      "16          Saka             4.863905        2.248523          3.702875   \n",
      "17        Saliba             6.009654       -0.305782         -0.319426   \n",
      "..           ...                  ...             ...               ...   \n",
      "536  Pedro Porro             5.150342        0.351039          3.159321   \n",
      "544          Son             1.172047       -0.086842          2.941899   \n",
      "569        Kudus             0.981089        0.278059          4.789984   \n",
      "571    L.Paquetá            -0.069181        5.459651          0.115417   \n",
      "574       Souček            -0.005528        7.722035          0.985104   \n",
      "\n",
      "         form  total_points  \n",
      "3    4.717458      4.717458  \n",
      "12   0.743353      0.743353  \n",
      "14   2.951189      2.951189  \n",
      "16   4.717458      4.717458  \n",
      "17   2.068055      2.068055  \n",
      "..        ...           ...  \n",
      "536  3.392757      3.392757  \n",
      "544  0.301785      0.301785  \n",
      "569  0.301785      0.301785  \n",
      "571  2.068055      2.068055  \n",
      "574  1.626487      1.626487  \n",
      "\n",
      "[62 rows x 6 columns]\n"
     ]
    }
   ],
   "source": [
    "from sklearn.ensemble import IsolationForest\n",
    "\n",
    "# Apply Isolation Forest model\n",
    "model = IsolationForest(contamination=0.1)  \n",
    "df_new['anomaly'] = model.fit_predict(df_new[numeric_columns])\n",
    "\n",
    "# Extract anomalies (overperforming differentials)\n",
    "differentials_anomalies_new = df_new[df_new['anomaly'] == -1]\n",
    "\n",
    "print(\"\\nTop Differential Players (Isolation Forest):\")\n",
    "print(differentials_anomalies_new[['web_name', 'selected_by_percent', 'expected_goals', 'expected_assists', 'form', 'total_points']])\n"
   ]
  },
  {
   "cell_type": "code",
   "execution_count": 5,
   "metadata": {},
   "outputs": [
    {
     "name": "stdout",
     "output_type": "stream",
     "text": [
      "\n",
      "🔥 Best Differentials for 2024-2025 FPL Gameweek 2 🔥\n",
      "             web_name  selected_by_percent  expected_goals  expected_assists  \\\n",
      "339  Alexander-Arnold             4.434249        0.132099         10.551659   \n",
      "535          Maddison             0.344562       -0.159822         10.334238   \n",
      "114             Wissa             0.137690        6.992234         -0.210716   \n",
      "16               Saka             4.863905        2.248523          3.702875   \n",
      "574            Souček            -0.005528        7.722035          0.985104   \n",
      "141            Mitoma             0.121777        6.773293          0.115417   \n",
      "344          Diogo J.             2.461015        6.627333          0.115417   \n",
      "394       B.Fernandes             2.683799        8.378857          0.006706   \n",
      "335          A.Fatawu            -0.323792       -0.305782          6.203225   \n",
      "331             Vardy            -0.116921        5.532631         -0.319426   \n",
      "\n",
      "         form  total_points  differential_score  \n",
      "339  2.951189      2.951189           13.634947  \n",
      "535  1.626487      1.626487           11.800903  \n",
      "114  4.275891      4.275891           11.057410  \n",
      "16   4.717458      4.717458           10.668857  \n",
      "574  1.626487      1.626487           10.333627  \n",
      "141  2.951189      2.951189            9.839900  \n",
      "344  2.951189      2.951189            9.693939  \n",
      "394  0.743353      0.743353            9.128916  \n",
      "335  2.951189      2.951189            8.848632  \n",
      "331  2.951189      2.951189            8.164394  \n"
     ]
    }
   ],
   "source": [
    "# Combine differentials from both models\n",
    "final_differentials = pd.concat([differentials_new, differentials_anomalies_new]).drop_duplicates()\n",
    "\n",
    "# Rank by xG + xA + form\n",
    "final_differentials['differential_score'] = final_differentials['expected_goals'] + final_differentials['expected_assists'] + final_differentials['form']\n",
    "\n",
    "# Apply additional filters:\n",
    "filtered_differentials = final_differentials[\n",
    "    (final_differentials['selected_by_percent'] < 5) &  # Ownership < 5%\n",
    "    (final_differentials['expected_goals'] + final_differentials['expected_assists'] > 5.0) #&  # xG + xA > 5.0\n",
    "    # (final_differentials['form'] > 2.5)  # Form > 2.5\n",
    "]\n",
    "\n",
    "# Sort and pick top 10\n",
    "top_differentials = filtered_differentials.sort_values(by=\"differential_score\", ascending=False).head(10)\n",
    "\n",
    "print(\"\\n🔥 Best Differentials for 2024-2025 FPL Gameweek 2 🔥\")\n",
    "print(top_differentials[['web_name', 'selected_by_percent', 'expected_goals', 'expected_assists', 'form', 'total_points', 'differential_score']])"
   ]
  }
 ],
 "metadata": {
  "kernelspec": {
   "display_name": "myenv",
   "language": "python",
   "name": "python3"
  },
  "language_info": {
   "codemirror_mode": {
    "name": "ipython",
    "version": 3
   },
   "file_extension": ".py",
   "mimetype": "text/x-python",
   "name": "python",
   "nbconvert_exporter": "python",
   "pygments_lexer": "ipython3",
   "version": "3.12.2"
  }
 },
 "nbformat": 4,
 "nbformat_minor": 2
}
