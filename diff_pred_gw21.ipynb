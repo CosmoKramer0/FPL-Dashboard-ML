{
 "cells": [
  {
   "cell_type": "code",
   "execution_count": 1,
   "metadata": {},
   "outputs": [
    {
     "name": "stdout",
     "output_type": "stream",
     "text": [
      "Missing values per column:\n",
      "now_cost               0\n",
      "expected_goals         0\n",
      "expected_assists       0\n",
      "total_points           0\n",
      "form                   0\n",
      "minutes                0\n",
      "selected_by_percent    0\n",
      "dtype: int64\n",
      "\n",
      "Rows with missing values:\n",
      "Empty DataFrame\n",
      "Columns: [assists, bonus, bps, can_select, can_transact, chance_of_playing_next_round, chance_of_playing_this_round, clean_sheets, clean_sheets_per_90, code, corners_and_indirect_freekicks_order, corners_and_indirect_freekicks_text, cost_change_event, cost_change_event_fall, cost_change_start, cost_change_start_fall, creativity, creativity_rank, creativity_rank_type, direct_freekicks_order, direct_freekicks_text, dreamteam_count, element_type, ep_next, ep_this, event_points, expected_assists, expected_assists_per_90, expected_goal_involvements, expected_goal_involvements_per_90, expected_goals, expected_goals_conceded, expected_goals_conceded_per_90, expected_goals_per_90, first_name, form, form_rank, form_rank_type, goals_conceded, goals_conceded_per_90, goals_scored, ict_index, ict_index_rank, ict_index_rank_type, id, in_dreamteam, influence, influence_rank, influence_rank_type, minutes, news, news_added, now_cost, now_cost_rank, now_cost_rank_type, own_goals, penalties_missed, penalties_order, penalties_saved, penalties_text, photo, points_per_game, points_per_game_rank, points_per_game_rank_type, red_cards, region, removed, saves, saves_per_90, second_name, selected_by_percent, selected_rank, selected_rank_type, special, squad_number, starts, starts_per_90, status, team, team_code, team_join_date, threat, threat_rank, threat_rank_type, total_points, transfers_in, transfers_in_event, transfers_out, transfers_out_event, value_form, value_season, web_name, yellow_cards]\n",
      "Index: []\n",
      "\n",
      "[0 rows x 93 columns]\n",
      "\n",
      "Data shape after dropping rows with missing values:\n",
      "(711, 7)\n",
      "Scaling complete!\n"
     ]
    }
   ],
   "source": [
    "import pandas as pd\n",
    "from sklearn.preprocessing import StandardScaler\n",
    "\n",
    "# Load 2024-25 GW1 data\n",
    "df_new = pd.read_csv(\"players_raw_24-25_postgw20.csv\")\n",
    "\n",
    "# Select relevant features (same as before)\n",
    "numeric_columns = ['now_cost', 'expected_goals', 'expected_assists', 'total_points', 'form', 'minutes', 'selected_by_percent']\n",
    "\n",
    "# Ensure all selected columns are numeric and check for coercion\n",
    "df_new[numeric_columns] = df_new[numeric_columns].apply(pd.to_numeric, errors='coerce')\n",
    "\n",
    "# Check how many NaN values exist in each column after coercion\n",
    "print(\"Missing values per column:\")\n",
    "print(df_new[numeric_columns].isnull().sum())\n",
    "\n",
    "# Inspect rows that have NaN values\n",
    "print(\"\\nRows with missing values:\")\n",
    "print(df_new[df_new[numeric_columns].isnull().any(axis=1)])\n",
    "\n",
    "# Drop rows with missing values after conversion\n",
    "df_new = df_new.dropna(subset=numeric_columns)\n",
    "\n",
    "# Check if we still have data left\n",
    "print(\"\\nData shape after dropping rows with missing values:\")\n",
    "print(df_new[numeric_columns].shape)\n",
    "\n",
    "# Scale the new data using the same scaler if there are rows left\n",
    "if df_new.shape[0] > 0:\n",
    "    scaler = StandardScaler()\n",
    "    df_new[numeric_columns] = scaler.fit_transform(df_new[numeric_columns])\n",
    "    print(\"Scaling complete!\")\n",
    "else:\n",
    "    print(\"No data available after dropping missing values.\")\n"
   ]
  },
  {
   "cell_type": "code",
   "execution_count": 2,
   "metadata": {},
   "outputs": [
    {
     "name": "stdout",
     "output_type": "stream",
     "text": [
      "\n",
      "Top Differential Players (K-Means Clustering):\n",
      "      web_name  selected_by_percent  expected_goals  expected_assists  \\\n",
      "5     J.Timber             0.590807       -0.073327          0.417750   \n",
      "15      Thomas            -0.214984        0.309101          0.642094   \n",
      "19       White             0.015242       -0.404384         -0.244598   \n",
      "23   Calafiori            -0.132761       -0.153238          0.001112   \n",
      "25      Merino            -0.330097        0.697236          0.118625   \n",
      "..         ...                  ...             ...               ...   \n",
      "697   N.Semedo            -0.297208       -0.158946          0.332286   \n",
      "700    R.Gomes            -0.330097       -0.267395         -0.127085   \n",
      "701    S.Bueno            -0.330097       -0.221732         -0.500991   \n",
      "704       Toti            -0.313652       -0.461463         -0.191183   \n",
      "706      André            -0.346542       -0.438632         -0.415527   \n",
      "\n",
      "         form  total_points  \n",
      "5    1.179737      1.472032  \n",
      "15   0.887107      1.364720  \n",
      "19  -0.693091      0.148516  \n",
      "23  -0.107832      0.112746  \n",
      "25   1.062685      0.434682  \n",
      "..        ...           ...  \n",
      "697  0.945633      0.434682  \n",
      "700  0.594478      0.005434  \n",
      "701  0.887107      0.112746  \n",
      "704  0.887107      0.398911  \n",
      "706  0.360375      0.076975  \n",
      "\n",
      "[210 rows x 6 columns]\n"
     ]
    }
   ],
   "source": [
    "from sklearn.cluster import KMeans\n",
    "\n",
    "# Apply K-Means model (use the same number of clusters as before)\n",
    "kmeans = KMeans(n_clusters=4, random_state=42)  \n",
    "df_new['cluster'] = kmeans.fit_predict(df_new[numeric_columns])\n",
    "\n",
    "# Extract differentials (low-ownership, high potential)\n",
    "differentials_new = df_new[(df_new['cluster'] == 0) & (df_new['selected_by_percent'] < 10)]\n",
    "\n",
    "print(\"\\nTop Differential Players (K-Means Clustering):\")\n",
    "print(differentials_new[['web_name', 'selected_by_percent', 'expected_goals', 'expected_assists', 'form', 'total_points']])\n"
   ]
  },
  {
   "cell_type": "code",
   "execution_count": 3,
   "metadata": {},
   "outputs": [
    {
     "name": "stdout",
     "output_type": "stream",
     "text": [
      "\n",
      "Top Differential Players (Isolation Forest):\n",
      "        web_name  selected_by_percent  expected_goals  expected_assists  \\\n",
      "1        G.Jesus             1.166373        1.262316         -0.030937   \n",
      "2        Gabriel             4.422428        0.902720          0.396384   \n",
      "3        Havertz             1.067704        3.956435          0.845072   \n",
      "10      Ødegaard             0.689476        0.982630          2.159086   \n",
      "11          Raya             4.701989       -0.478587         -0.575772   \n",
      "..           ...                  ...             ...               ...   \n",
      "617  Pedro Porro             3.583747        0.252022          1.902693   \n",
      "624          Son             0.557918        2.192701          3.173975   \n",
      "644        Bowen             0.261913        2.238364          4.028618   \n",
      "649    Fabianski             2.481951       -0.478587         -0.586455   \n",
      "679        Cunha             1.758383        1.838812          3.109877   \n",
      "\n",
      "         form  total_points  \n",
      "1    2.642884      0.685077  \n",
      "2    1.530892      2.151675  \n",
      "3    1.238263      1.829738  \n",
      "10   0.594478      0.756618  \n",
      "11   1.472366      1.972821  \n",
      "..        ...           ...  \n",
      "617  0.945633      1.650885  \n",
      "624  1.823522      2.115904  \n",
      "644  2.116151      2.402069  \n",
      "649  0.360375      0.363140  \n",
      "679  2.408780      3.153254  \n",
      "\n",
      "[71 rows x 6 columns]\n"
     ]
    }
   ],
   "source": [
    "from sklearn.ensemble import IsolationForest\n",
    "\n",
    "# Apply Isolation Forest model\n",
    "model = IsolationForest(contamination=0.1)  \n",
    "df_new['anomaly'] = model.fit_predict(df_new[numeric_columns])\n",
    "\n",
    "# Extract anomalies (overperforming differentials)\n",
    "differentials_anomalies_new = df_new[df_new['anomaly'] == -1]\n",
    "\n",
    "print(\"\\nTop Differential Players (Isolation Forest):\")\n",
    "print(differentials_anomalies_new[['web_name', 'selected_by_percent', 'expected_goals', 'expected_assists', 'form', 'total_points']])\n"
   ]
  },
  {
   "cell_type": "code",
   "execution_count": 5,
   "metadata": {},
   "outputs": [
    {
     "name": "stdout",
     "output_type": "stream",
     "text": [
      "\n",
      "🔥 Best Differentials for 2024-2025 FPL Gameweek 21 🔥\n",
      "        web_name  selected_by_percent  expected_goals  expected_assists  \\\n",
      "119       Mbeumo             4.965104        3.083130          4.327743   \n",
      "438      Haaland             4.669099        8.505615          0.652777   \n",
      "501       Gordon             2.695732        3.157332          3.366270   \n",
      "644        Bowen             0.261913        2.238364          4.028618   \n",
      "450        Sávio             0.163245        0.994046          4.178181   \n",
      "616     Maddison             1.051260        2.072835          4.156815   \n",
      "435        Foden             0.541473        1.108204          3.964520   \n",
      "462  B.Fernandes             1.084149        3.077422          3.238073   \n",
      "63       Watkins             2.481951        5.246416          0.802340   \n",
      "624          Son             0.557918        2.192701          3.173975   \n",
      "\n",
      "         form  total_points  differential_score  \n",
      "119  3.988979      4.047521           11.399852  \n",
      "438  2.233203      3.582502           11.391595  \n",
      "501  3.403720      2.402069            9.927322  \n",
      "644  2.116151      2.402069            8.383133  \n",
      "450  3.052565      1.579344            8.224792  \n",
      "616  1.940573      2.724006            8.170223  \n",
      "435  2.467306      0.828159            7.540030  \n",
      "462  1.179737      2.330528            7.495232  \n",
      "63   1.296789      2.545152            7.345545  \n",
      "624  1.823522      2.115904            7.190197  \n"
     ]
    }
   ],
   "source": [
    "# Combine differentials from both models\n",
    "final_differentials = pd.concat([differentials_new, differentials_anomalies_new]).drop_duplicates()\n",
    "\n",
    "# Rank by xG + xA + form\n",
    "final_differentials['differential_score'] = final_differentials['expected_goals'] + final_differentials['expected_assists'] + final_differentials['form']\n",
    "\n",
    "# Apply additional filters:\n",
    "filtered_differentials = final_differentials[\n",
    "    (final_differentials['selected_by_percent'] < 5) &  # Ownership < 5%\n",
    "    (final_differentials['expected_goals'] + final_differentials['expected_assists'] > 5.0) #&  # xG + xA > 5.0\n",
    "    # (final_differentials['form'] > 2.5)  # Form > 2.5\n",
    "]\n",
    "\n",
    "# Sort and pick top 10\n",
    "top_differentials = filtered_differentials.sort_values(by=\"differential_score\", ascending=False).head(10)\n",
    "\n",
    "print(\"\\n🔥 Best Differentials for 2024-2025 FPL Gameweek 21 🔥\")\n",
    "print(top_differentials[['web_name', 'selected_by_percent', 'expected_goals', 'expected_assists', 'form', 'total_points', 'differential_score']])\n"
   ]
  }
 ],
 "metadata": {
  "kernelspec": {
   "display_name": "myenv",
   "language": "python",
   "name": "python3"
  },
  "language_info": {
   "codemirror_mode": {
    "name": "ipython",
    "version": 3
   },
   "file_extension": ".py",
   "mimetype": "text/x-python",
   "name": "python",
   "nbconvert_exporter": "python",
   "pygments_lexer": "ipython3",
   "version": "3.12.2"
  }
 },
 "nbformat": 4,
 "nbformat_minor": 2
}
