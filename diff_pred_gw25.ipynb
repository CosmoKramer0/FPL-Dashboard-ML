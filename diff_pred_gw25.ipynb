{
 "cells": [
  {
   "cell_type": "code",
   "execution_count": 1,
   "metadata": {},
   "outputs": [
    {
     "name": "stdout",
     "output_type": "stream",
     "text": [
      "Missing values per column:\n",
      "now_cost               0\n",
      "expected_goals         0\n",
      "expected_assists       0\n",
      "total_points           0\n",
      "form                   0\n",
      "minutes                0\n",
      "selected_by_percent    0\n",
      "dtype: int64\n",
      "\n",
      "Rows with missing values:\n",
      "Empty DataFrame\n",
      "Columns: [assists, birth_date, bonus, bps, can_select, can_transact, chance_of_playing_next_round, chance_of_playing_this_round, clean_sheets, clean_sheets_per_90, code, corners_and_indirect_freekicks_order, corners_and_indirect_freekicks_text, cost_change_event, cost_change_event_fall, cost_change_start, cost_change_start_fall, creativity, creativity_rank, creativity_rank_type, direct_freekicks_order, direct_freekicks_text, dreamteam_count, element_type, ep_next, ep_this, event_points, expected_assists, expected_assists_per_90, expected_goal_involvements, expected_goal_involvements_per_90, expected_goals, expected_goals_conceded, expected_goals_conceded_per_90, expected_goals_per_90, first_name, form, form_rank, form_rank_type, goals_conceded, goals_conceded_per_90, goals_scored, has_temporary_code, ict_index, ict_index_rank, ict_index_rank_type, id, in_dreamteam, influence, influence_rank, influence_rank_type, minutes, mng_clean_sheets, mng_draw, mng_goals_scored, mng_loss, mng_underdog_draw, mng_underdog_win, mng_win, news, news_added, now_cost, now_cost_rank, now_cost_rank_type, opta_code, own_goals, penalties_missed, penalties_order, penalties_saved, penalties_text, photo, points_per_game, points_per_game_rank, points_per_game_rank_type, red_cards, region, removed, saves, saves_per_90, second_name, selected_by_percent, selected_rank, selected_rank_type, special, squad_number, starts, starts_per_90, status, team, team_code, team_join_date, threat, threat_rank, threat_rank_type, total_points, transfers_in, transfers_in_event, transfers_out, transfers_out_event, value_form, ...]\n",
      "Index: []\n",
      "\n",
      "[0 rows x 103 columns]\n",
      "\n",
      "Data shape after dropping rows with missing values:\n",
      "(773, 7)\n",
      "Scaling complete!\n"
     ]
    }
   ],
   "source": [
    "import pandas as pd\n",
    "from sklearn.preprocessing import StandardScaler\n",
    "\n",
    "# Load 2024-25 GW1 data\n",
    "df_new = pd.read_csv(\"players_raw_24-25_postgw24.csv\")\n",
    "\n",
    "# Select relevant features (same as before)\n",
    "numeric_columns = ['now_cost', 'expected_goals', 'expected_assists', 'total_points', 'form', 'minutes', 'selected_by_percent']\n",
    "\n",
    "# Ensure all selected columns are numeric and check for coercion\n",
    "df_new[numeric_columns] = df_new[numeric_columns].apply(pd.to_numeric, errors='coerce')\n",
    "\n",
    "# Check how many NaN values exist in each column after coercion\n",
    "print(\"Missing values per column:\")\n",
    "print(df_new[numeric_columns].isnull().sum())\n",
    "\n",
    "# Inspect rows that have NaN values\n",
    "print(\"\\nRows with missing values:\")\n",
    "print(df_new[df_new[numeric_columns].isnull().any(axis=1)])\n",
    "\n",
    "# Drop rows with missing values after conversion\n",
    "df_new = df_new.dropna(subset=numeric_columns)\n",
    "\n",
    "# Check if we still have data left\n",
    "print(\"\\nData shape after dropping rows with missing values:\")\n",
    "print(df_new[numeric_columns].shape)\n",
    "\n",
    "# Scale the new data using the same scaler if there are rows left\n",
    "if df_new.shape[0] > 0:\n",
    "    scaler = StandardScaler()\n",
    "    df_new[numeric_columns] = scaler.fit_transform(df_new[numeric_columns])\n",
    "    print(\"Scaling complete!\")\n",
    "else:\n",
    "    print(\"No data available after dropping missing values.\")\n"
   ]
  },
  {
   "cell_type": "code",
   "execution_count": 2,
   "metadata": {},
   "outputs": [
    {
     "name": "stdout",
     "output_type": "stream",
     "text": [
      "\n",
      "Top Differential Players (K-Means Clustering):\n",
      "          web_name  selected_by_percent  expected_goals  expected_assists  \\\n",
      "1          G.Jesus            -0.138157        1.055446         -0.075662   \n",
      "5         J.Timber             0.371759       -0.087048          0.383317   \n",
      "11            Raya             3.781827       -0.459600         -0.553376   \n",
      "15          Thomas            -0.201897        0.300407          0.926599   \n",
      "23       Calafiori            -0.122223       -0.126787         -0.038195   \n",
      "..             ...                  ...             ...               ...   \n",
      "760        Sarabia            -0.313441        0.682893          0.205345   \n",
      "761  Strand Larsen            -0.122223        2.590360         -0.047562   \n",
      "762           Toti            -0.297506       -0.444698         -0.216166   \n",
      "764          André            -0.329376       -0.424828         -0.356670   \n",
      "770        Pereira            -0.297506       -0.459600         -0.562743   \n",
      "\n",
      "         form  total_points  \n",
      "1   -0.642762      0.496501  \n",
      "5    0.514182      1.443615  \n",
      "11   1.355596      2.054656  \n",
      "15   1.355596      1.535271  \n",
      "23   0.409006      0.252084  \n",
      "..        ...           ...  \n",
      "760  0.671947     -0.145093  \n",
      "761 -0.011701      1.779688  \n",
      "762  0.303829      0.465949  \n",
      "764  0.409006      0.221532  \n",
      "770  4.616075     -0.175645  \n",
      "\n",
      "[213 rows x 6 columns]\n"
     ]
    }
   ],
   "source": [
    "from sklearn.cluster import KMeans\n",
    "\n",
    "# Apply K-Means model (use the same number of clusters as before)\n",
    "kmeans = KMeans(n_clusters=4, random_state=42)  \n",
    "df_new['cluster'] = kmeans.fit_predict(df_new[numeric_columns])\n",
    "\n",
    "# Extract differentials (low-ownership, high potential)\n",
    "differentials_new = df_new[(df_new['cluster'] == 0) & (df_new['selected_by_percent'] < 10)]\n",
    "\n",
    "print(\"\\nTop Differential Players (K-Means Clustering):\")\n",
    "print(differentials_new[['web_name', 'selected_by_percent', 'expected_goals', 'expected_assists', 'form', 'total_points']])\n"
   ]
  },
  {
   "cell_type": "code",
   "execution_count": 3,
   "metadata": {},
   "outputs": [
    {
     "name": "stdout",
     "output_type": "stream",
     "text": [
      "\n",
      "Top Differential Players (Isolation Forest):\n",
      "          web_name  selected_by_percent  expected_goals  expected_assists  \\\n",
      "2          Gabriel             4.148330        0.812045          0.402051   \n",
      "3          Havertz             0.881676        4.204753          0.964067   \n",
      "10        Ødegaard             0.451434        1.090217          2.556445   \n",
      "11            Raya             3.781827       -0.459600         -0.553376   \n",
      "12            Rice             0.100866        0.270602          3.212130   \n",
      "..             ...                  ...             ...               ...   \n",
      "672            Son             0.419564        2.123428          3.090359   \n",
      "700          Bowen             0.116801        2.004212          3.886548   \n",
      "737          Cunha             0.865741        2.168135          3.137194   \n",
      "761  Strand Larsen            -0.122223        2.590360         -0.047562   \n",
      "770        Pereira            -0.297506       -0.459600         -0.562743   \n",
      "\n",
      "         form  total_points  \n",
      "2    0.829713      2.085209  \n",
      "3    2.249599      2.146313  \n",
      "10   1.460773      1.046438  \n",
      "11   1.355596      2.054656  \n",
      "12   1.565950      1.321407  \n",
      "..        ...           ...  \n",
      "672  2.249599      2.390729  \n",
      "700  0.671947      2.268521  \n",
      "737  0.934889      2.971219  \n",
      "761 -0.011701      1.779688  \n",
      "770  4.616075     -0.175645  \n",
      "\n",
      "[78 rows x 6 columns]\n"
     ]
    }
   ],
   "source": [
    "from sklearn.ensemble import IsolationForest\n",
    "\n",
    "# Apply Isolation Forest model\n",
    "model = IsolationForest(contamination=0.1)  \n",
    "df_new['anomaly'] = model.fit_predict(df_new[numeric_columns])\n",
    "\n",
    "# Extract anomalies (overperforming differentials)\n",
    "differentials_anomalies_new = df_new[df_new['anomaly'] == -1]\n",
    "\n",
    "print(\"\\nTop Differential Players (Isolation Forest):\")\n",
    "print(differentials_anomalies_new[['web_name', 'selected_by_percent', 'expected_goals', 'expected_assists', 'form', 'total_points']])\n"
   ]
  },
  {
   "cell_type": "code",
   "execution_count": 4,
   "metadata": {},
   "outputs": [
    {
     "name": "stdout",
     "output_type": "stream",
     "text": [
      "\n",
      "🔥 Best Differentials for 2024-2025 FPL Gameweek 25 🔥\n",
      "        web_name  selected_by_percent  expected_goals  expected_assists  \\\n",
      "473      Haaland             4.100525        8.546228          0.654958   \n",
      "470        Foden             0.977285        1.815452          3.895915   \n",
      "90      Kluivert             3.001017        3.881875          1.160772   \n",
      "265       Mateta             0.706392        4.458089          0.898498   \n",
      "502  B.Fernandes             1.072895        3.434812          3.577440   \n",
      "96       Semenyo             0.897611        3.027488          2.406574   \n",
      "544       Gordon             2.905408        3.275856          3.502504   \n",
      "64       Watkins             2.379556        5.123715          0.739260   \n",
      "672          Son             0.419564        2.123428          3.090359   \n",
      "3        Havertz             0.881676        4.204753          0.964067   \n",
      "\n",
      "         form  total_points  differential_score  \n",
      "473  2.775482      3.765573           11.976668  \n",
      "470  5.036782      1.932448           10.748150  \n",
      "90   5.247136      2.971219           10.289783  \n",
      "265  4.090192      2.360177            9.446778  \n",
      "502  1.460773      2.390729            8.473025  \n",
      "96   3.038424      2.329625            8.472486  \n",
      "544  1.565950      2.482385            8.344311  \n",
      "64   2.249599      2.757354            8.112574  \n",
      "672  2.249599      2.390729            7.463386  \n",
      "3    2.249599      2.146313            7.418418  \n"
     ]
    }
   ],
   "source": [
    "# Combine differentials from both models\n",
    "final_differentials = pd.concat([differentials_new, differentials_anomalies_new]).drop_duplicates()\n",
    "\n",
    "# Rank by xG + xA + form\n",
    "final_differentials['differential_score'] = final_differentials['expected_goals'] + final_differentials['expected_assists'] + final_differentials['form']\n",
    "\n",
    "# Apply additional filters:\n",
    "filtered_differentials = final_differentials[\n",
    "    (final_differentials['selected_by_percent'] < 5) &  # Ownership < 5%\n",
    "    (final_differentials['expected_goals'] + final_differentials['expected_assists'] > 5.0) #&  # xG + xA > 5.0\n",
    "    # (final_differentials['form'] > 2.5)  # Form > 2.5\n",
    "]\n",
    "\n",
    "# Sort and pick top 10\n",
    "top_differentials = filtered_differentials.sort_values(by=\"differential_score\", ascending=False).head(10)\n",
    "\n",
    "print(\"\\n🔥 Best Differentials for 2024-2025 FPL Gameweek 25 🔥\")\n",
    "print(top_differentials[['web_name', 'selected_by_percent', 'expected_goals', 'expected_assists', 'form', 'total_points', 'differential_score']])\n"
   ]
  }
 ],
 "metadata": {
  "kernelspec": {
   "display_name": "myenv",
   "language": "python",
   "name": "python3"
  },
  "language_info": {
   "codemirror_mode": {
    "name": "ipython",
    "version": 3
   },
   "file_extension": ".py",
   "mimetype": "text/x-python",
   "name": "python",
   "nbconvert_exporter": "python",
   "pygments_lexer": "ipython3",
   "version": "3.12.2"
  }
 },
 "nbformat": 4,
 "nbformat_minor": 2
}
