{
 "cells": [
  {
   "cell_type": "code",
   "execution_count": 3,
   "metadata": {},
   "outputs": [
    {
     "name": "stdout",
     "output_type": "stream",
     "text": [
      "Missing values per column:\n",
      "now_cost               0\n",
      "expected_goals         0\n",
      "expected_assists       0\n",
      "total_points           0\n",
      "form                   0\n",
      "minutes                0\n",
      "selected_by_percent    0\n",
      "dtype: int64\n",
      "\n",
      "Rows with missing values:\n",
      "Empty DataFrame\n",
      "Columns: [assists, bonus, bps, chance_of_playing_next_round, chance_of_playing_this_round, clean_sheets, clean_sheets_per_90, code, corners_and_indirect_freekicks_order, corners_and_indirect_freekicks_text, cost_change_event, cost_change_event_fall, cost_change_start, cost_change_start_fall, creativity, creativity_rank, creativity_rank_type, direct_freekicks_order, direct_freekicks_text, dreamteam_count, element_type, ep_next, ep_this, event_points, expected_assists, expected_assists_per_90, expected_goal_involvements, expected_goal_involvements_per_90, expected_goals, expected_goals_conceded, expected_goals_conceded_per_90, expected_goals_per_90, first_name, form, form_rank, form_rank_type, goals_conceded, goals_conceded_per_90, goals_scored, ict_index, ict_index_rank, ict_index_rank_type, id, in_dreamteam, influence, influence_rank, influence_rank_type, minutes, news, news_added, now_cost, now_cost_rank, now_cost_rank_type, own_goals, penalties_missed, penalties_order, penalties_saved, penalties_text, photo, points_per_game, points_per_game_rank, points_per_game_rank_type, red_cards, saves, saves_per_90, second_name, selected_by_percent, selected_rank, selected_rank_type, special, squad_number, starts, starts_per_90, status, team, team_code, threat, threat_rank, threat_rank_type, total_points, transfers_in, transfers_in_event, transfers_out, transfers_out_event, value_form, value_season, web_name, yellow_cards]\n",
      "Index: []\n",
      "\n",
      "[0 rows x 88 columns]\n",
      "\n",
      "Data shape after dropping rows with missing values:\n",
      "(627, 7)\n",
      "Scaling complete!\n"
     ]
    }
   ],
   "source": [
    "import pandas as pd\n",
    "from sklearn.preprocessing import StandardScaler\n",
    "\n",
    "# Load 2024-25 GW1 data\n",
    "df_new = pd.read_csv(\"players_raw_24-25_postgw2.csv\")\n",
    "\n",
    "# Select relevant features (same as before)\n",
    "numeric_columns = ['now_cost', 'expected_goals', 'expected_assists', 'total_points', 'form', 'minutes', 'selected_by_percent']\n",
    "\n",
    "# Ensure all selected columns are numeric and check for coercion\n",
    "df_new[numeric_columns] = df_new[numeric_columns].apply(pd.to_numeric, errors='coerce')\n",
    "\n",
    "# Check how many NaN values exist in each column after coercion\n",
    "print(\"Missing values per column:\")\n",
    "print(df_new[numeric_columns].isnull().sum())\n",
    "\n",
    "# Inspect rows that have NaN values\n",
    "print(\"\\nRows with missing values:\")\n",
    "print(df_new[df_new[numeric_columns].isnull().any(axis=1)])\n",
    "\n",
    "# Drop rows with missing values after conversion\n",
    "df_new = df_new.dropna(subset=numeric_columns)\n",
    "\n",
    "# Check if we still have data left\n",
    "print(\"\\nData shape after dropping rows with missing values:\")\n",
    "print(df_new[numeric_columns].shape)\n",
    "\n",
    "# Scale the new data using the same scaler if there are rows left\n",
    "if df_new.shape[0] > 0:\n",
    "    scaler = StandardScaler()\n",
    "    df_new[numeric_columns] = scaler.fit_transform(df_new[numeric_columns])\n",
    "    print(\"Scaling complete!\")\n",
    "else:\n",
    "    print(\"No data available after dropping missing values.\")\n"
   ]
  },
  {
   "cell_type": "code",
   "execution_count": 4,
   "metadata": {},
   "outputs": [
    {
     "name": "stdout",
     "output_type": "stream",
     "text": [
      "\n",
      "Top Differential Players (K-Means Clustering):\n",
      "         web_name  selected_by_percent  expected_goals  expected_assists  \\\n",
      "0    Fábio Vieira            -0.392484       -0.377167         -0.387639   \n",
      "1         G.Jesus            -0.146150       -0.377167         -0.387639   \n",
      "4            Hein            -0.376062       -0.377167         -0.387639   \n",
      "6        Jorginho            -0.343218       -0.377167         -0.387639   \n",
      "7          Kiwior            -0.359640       -0.377167         -0.387639   \n",
      "..            ...                  ...             ...               ...   \n",
      "619      N.Semedo            -0.392484       -0.377167         -0.387639   \n",
      "620    Pedro Lima            -0.146150       -0.377167         -0.387639   \n",
      "621       Podence            -0.376062       -0.210041         -0.325478   \n",
      "623       S.Bueno            -0.376062       -0.377167         -0.387639   \n",
      "624       Sarabia            -0.359640        0.040649         -0.263317   \n",
      "\n",
      "         form  total_points  \n",
      "0   -0.654651     -0.652552  \n",
      "1   -0.654651     -0.652552  \n",
      "4   -0.654651     -0.652552  \n",
      "6   -0.654651     -0.652552  \n",
      "7   -0.654651     -0.652552  \n",
      "..        ...           ...  \n",
      "619 -0.654651     -0.652552  \n",
      "620 -0.654651     -0.652552  \n",
      "621 -0.165710     -0.161964  \n",
      "623 -0.654651     -0.652552  \n",
      "624 -0.165710     -0.161964  \n",
      "\n",
      "[391 rows x 6 columns]\n"
     ]
    }
   ],
   "source": [
    "from sklearn.cluster import KMeans\n",
    "\n",
    "# Apply K-Means model (use the same number of clusters as before)\n",
    "kmeans = KMeans(n_clusters=4, random_state=42)  \n",
    "df_new['cluster'] = kmeans.fit_predict(df_new[numeric_columns])\n",
    "\n",
    "# Extract differentials (low-ownership, high potential)\n",
    "differentials_new = df_new[(df_new['cluster'] == 0) & (df_new['selected_by_percent'] < 10)]\n",
    "\n",
    "print(\"\\nTop Differential Players (K-Means Clustering):\")\n",
    "print(differentials_new[['web_name', 'selected_by_percent', 'expected_goals', 'expected_assists', 'form', 'total_points']])\n"
   ]
  },
  {
   "cell_type": "code",
   "execution_count": 5,
   "metadata": {},
   "outputs": [
    {
     "name": "stdout",
     "output_type": "stream",
     "text": [
      "\n",
      "Top Differential Players (Isolation Forest):\n",
      "       web_name  selected_by_percent  expected_goals  expected_assists  \\\n",
      "3       Havertz             2.415724        2.380416          0.047488   \n",
      "8    Martinelli             0.050917       -0.042914          3.342026   \n",
      "12     Ødegaard             1.824522        0.792717          3.714992   \n",
      "14         Raya             3.992262       -0.377167         -0.387639   \n",
      "16         Saka             5.223933        1.294095          2.533932   \n",
      "..          ...                  ...             ...               ...   \n",
      "580       Kudus             0.822764        0.291338          3.528509   \n",
      "582   L.Paquetá            -0.014772        3.466736         -0.014673   \n",
      "585      Souček             0.083761        4.845528          0.979905   \n",
      "601       Cunha            -0.014772        3.759207          0.979905   \n",
      "618    Mosquera            -0.244684        0.667372         -0.263317   \n",
      "\n",
      "         form  total_points  \n",
      "3    2.767939      2.781561  \n",
      "8    0.812173      0.819211  \n",
      "12   0.567702      0.573917  \n",
      "14   3.745823      3.762736  \n",
      "16   3.745823      3.762736  \n",
      "..        ...           ...  \n",
      "580  0.567702      0.573917  \n",
      "582  1.545586      1.555092  \n",
      "585  2.523469      2.536267  \n",
      "601  1.056644      1.064505  \n",
      "618 -0.899122     -0.897846  \n",
      "\n",
      "[63 rows x 6 columns]\n"
     ]
    }
   ],
   "source": [
    "from sklearn.ensemble import IsolationForest\n",
    "\n",
    "# Apply Isolation Forest model\n",
    "model = IsolationForest(contamination=0.1)  \n",
    "df_new['anomaly'] = model.fit_predict(df_new[numeric_columns])\n",
    "\n",
    "# Extract anomalies (overperforming differentials)\n",
    "differentials_anomalies_new = df_new[df_new['anomaly'] == -1]\n",
    "\n",
    "print(\"\\nTop Differential Players (Isolation Forest):\")\n",
    "print(differentials_anomalies_new[['web_name', 'selected_by_percent', 'expected_goals', 'expected_assists', 'form', 'total_points']])\n"
   ]
  },
  {
   "cell_type": "code",
   "execution_count": 7,
   "metadata": {},
   "outputs": [
    {
     "name": "stdout",
     "output_type": "stream",
     "text": [
      "\n",
      "🔥 Best Differentials for 2024-2025 FPL Gameweek 3 🔥\n",
      "             web_name  selected_by_percent  expected_goals  expected_assists  \\\n",
      "79            Semenyo            -0.064039        2.589324          7.506818   \n",
      "347  Alexander-Arnold             4.632731        0.291338          9.123007   \n",
      "379         De Bruyne             1.364699        3.299610          5.641986   \n",
      "362         Luis Díaz             0.986986        5.179780          3.031220   \n",
      "547          Maddison             0.477896        1.419440          8.066268   \n",
      "555               Son             1.249743        4.511275          1.787999   \n",
      "142            Mitoma             0.592852        3.675644          3.466348   \n",
      "403       B.Fernandes             2.300768        4.887309          4.336603   \n",
      "154           Welbeck             0.921297        5.096217         -0.014673   \n",
      "352          Diogo J.             2.859125        6.057193          0.233972   \n",
      "\n",
      "         form  total_points  differential_score  \n",
      "79   2.523469      2.536267           12.619611  \n",
      "347  2.767939      2.781561           12.182284  \n",
      "379  3.012410      3.026855           11.954006  \n",
      "362  3.501352      3.517443           11.712352  \n",
      "547  2.034527      2.045680           11.520235  \n",
      "555  3.745823      3.762736           10.045097  \n",
      "142  2.767939      2.781561            9.909932  \n",
      "403  0.567702      0.573917            9.791615  \n",
      "154  4.479235      4.498618            9.560779  \n",
      "352  2.767939      2.781561            9.059104  \n"
     ]
    }
   ],
   "source": [
    "# Combine differentials from both models\n",
    "final_differentials = pd.concat([differentials_new, differentials_anomalies_new]).drop_duplicates()\n",
    "\n",
    "# Rank by xG + xA + form\n",
    "final_differentials['differential_score'] = final_differentials['expected_goals'] + final_differentials['expected_assists'] + final_differentials['form']\n",
    "\n",
    "# Apply additional filters:\n",
    "filtered_differentials = final_differentials[\n",
    "    (final_differentials['selected_by_percent'] < 5) &  # Ownership < 5%\n",
    "    (final_differentials['expected_goals'] + final_differentials['expected_assists'] > 5.0) #&  # xG + xA > 5.0\n",
    "    # (final_differentials['form'] > 2.5)  # Form > 2.5\n",
    "]\n",
    "\n",
    "# Sort and pick top 10\n",
    "top_differentials = filtered_differentials.sort_values(by=\"differential_score\", ascending=False).head(10)\n",
    "\n",
    "print(\"\\n🔥 Best Differentials for 2024-2025 FPL Gameweek 3 🔥\")\n",
    "print(top_differentials[['web_name', 'selected_by_percent', 'expected_goals', 'expected_assists', 'form', 'total_points', 'differential_score']])"
   ]
  }
 ],
 "metadata": {
  "kernelspec": {
   "display_name": "myenv",
   "language": "python",
   "name": "python3"
  },
  "language_info": {
   "codemirror_mode": {
    "name": "ipython",
    "version": 3
   },
   "file_extension": ".py",
   "mimetype": "text/x-python",
   "name": "python",
   "nbconvert_exporter": "python",
   "pygments_lexer": "ipython3",
   "version": "3.12.2"
  }
 },
 "nbformat": 4,
 "nbformat_minor": 2
}
