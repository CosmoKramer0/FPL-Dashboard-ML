{
 "cells": [
  {
   "cell_type": "code",
   "execution_count": 1,
   "metadata": {},
   "outputs": [
    {
     "name": "stdout",
     "output_type": "stream",
     "text": [
      "Missing values per column:\n",
      "now_cost               0\n",
      "expected_goals         0\n",
      "expected_assists       0\n",
      "total_points           0\n",
      "form                   0\n",
      "minutes                0\n",
      "selected_by_percent    0\n",
      "dtype: int64\n",
      "\n",
      "Rows with missing values:\n",
      "Empty DataFrame\n",
      "Columns: [assists, bonus, bps, chance_of_playing_next_round, chance_of_playing_this_round, clean_sheets, clean_sheets_per_90, code, corners_and_indirect_freekicks_order, corners_and_indirect_freekicks_text, cost_change_event, cost_change_event_fall, cost_change_start, cost_change_start_fall, creativity, creativity_rank, creativity_rank_type, direct_freekicks_order, direct_freekicks_text, dreamteam_count, element_type, ep_next, ep_this, event_points, expected_assists, expected_assists_per_90, expected_goal_involvements, expected_goal_involvements_per_90, expected_goals, expected_goals_conceded, expected_goals_conceded_per_90, expected_goals_per_90, first_name, form, form_rank, form_rank_type, goals_conceded, goals_conceded_per_90, goals_scored, ict_index, ict_index_rank, ict_index_rank_type, id, in_dreamteam, influence, influence_rank, influence_rank_type, minutes, news, news_added, now_cost, now_cost_rank, now_cost_rank_type, own_goals, penalties_missed, penalties_order, penalties_saved, penalties_text, photo, points_per_game, points_per_game_rank, points_per_game_rank_type, red_cards, region, saves, saves_per_90, second_name, selected_by_percent, selected_rank, selected_rank_type, special, squad_number, starts, starts_per_90, status, team, team_code, threat, threat_rank, threat_rank_type, total_points, transfers_in, transfers_in_event, transfers_out, transfers_out_event, value_form, value_season, web_name, yellow_cards]\n",
      "Index: []\n",
      "\n",
      "[0 rows x 89 columns]\n",
      "\n",
      "Data shape after dropping rows with missing values:\n",
      "(661, 7)\n",
      "Scaling complete!\n"
     ]
    }
   ],
   "source": [
    "import pandas as pd\n",
    "from sklearn.preprocessing import StandardScaler\n",
    "\n",
    "# Load 2024-25 GW1 data\n",
    "df_new = pd.read_csv(\"players_raw_24-25_postgw5.csv\")\n",
    "\n",
    "# Select relevant features (same as before)\n",
    "numeric_columns = ['now_cost', 'expected_goals', 'expected_assists', 'total_points', 'form', 'minutes', 'selected_by_percent']\n",
    "\n",
    "# Ensure all selected columns are numeric and check for coercion\n",
    "df_new[numeric_columns] = df_new[numeric_columns].apply(pd.to_numeric, errors='coerce')\n",
    "\n",
    "# Check how many NaN values exist in each column after coercion\n",
    "print(\"Missing values per column:\")\n",
    "print(df_new[numeric_columns].isnull().sum())\n",
    "\n",
    "# Inspect rows that have NaN values\n",
    "print(\"\\nRows with missing values:\")\n",
    "print(df_new[df_new[numeric_columns].isnull().any(axis=1)])\n",
    "\n",
    "# Drop rows with missing values after conversion\n",
    "df_new = df_new.dropna(subset=numeric_columns)\n",
    "\n",
    "# Check if we still have data left\n",
    "print(\"\\nData shape after dropping rows with missing values:\")\n",
    "print(df_new[numeric_columns].shape)\n",
    "\n",
    "# Scale the new data using the same scaler if there are rows left\n",
    "if df_new.shape[0] > 0:\n",
    "    scaler = StandardScaler()\n",
    "    df_new[numeric_columns] = scaler.fit_transform(df_new[numeric_columns])\n",
    "    print(\"Scaling complete!\")\n",
    "else:\n",
    "    print(\"No data available after dropping missing values.\")\n"
   ]
  },
  {
   "cell_type": "code",
   "execution_count": null,
   "metadata": {},
   "outputs": [],
   "source": []
  },
  {
   "cell_type": "code",
   "execution_count": 2,
   "metadata": {},
   "outputs": [
    {
     "name": "stdout",
     "output_type": "stream",
     "text": [
      "\n",
      "Top Differential Players (K-Means Clustering):\n",
      "      web_name  selected_by_percent  expected_goals  expected_assists  \\\n",
      "5     J.Timber            -0.145128       -0.289604         -0.323728   \n",
      "12        Rice             0.105909       -0.053176          0.143486   \n",
      "15      Thomas            -0.128392       -0.112283          0.236929   \n",
      "18    Trossard            -0.094921        0.242360         -0.074547   \n",
      "23   Calafiori            -0.145128       -0.388116         -0.479466   \n",
      "..         ...                  ...             ...               ...   \n",
      "641   Hee Chan            -0.295751       -0.427521         -0.012252   \n",
      "644    J.Gomes            -0.362694       -0.171390         -0.199137   \n",
      "649   Mosquera            -0.195336        0.222658         -0.386023   \n",
      "650   N.Semedo            -0.362694       -0.407818         -0.043399   \n",
      "657       Toti            -0.345958       -0.427521          0.268077   \n",
      "\n",
      "         form  total_points  \n",
      "5    1.278070      1.058136  \n",
      "12  -0.578643     -0.247431  \n",
      "15   1.559390      1.532888  \n",
      "18   0.546638      0.464697  \n",
      "23   0.884222      0.583385  \n",
      "..        ...           ...  \n",
      "641 -0.241059     -0.128743  \n",
      "644 -0.016002     -0.010055  \n",
      "649 -0.409851     -0.366119  \n",
      "650 -0.241059     -0.366119  \n",
      "657 -0.241059     -0.366119  \n",
      "\n",
      "[176 rows x 6 columns]\n"
     ]
    }
   ],
   "source": [
    "from sklearn.cluster import KMeans\n",
    "\n",
    "# Apply K-Means model (use the same number of clusters as before)\n",
    "kmeans = KMeans(n_clusters=4, random_state=42)  \n",
    "df_new['cluster'] = kmeans.fit_predict(df_new[numeric_columns])\n",
    "\n",
    "# Extract differentials (low-ownership, high potential)\n",
    "differentials_new = df_new[(df_new['cluster'] == 0) & (df_new['selected_by_percent'] < 10)]\n",
    "\n",
    "print(\"\\nTop Differential Players (K-Means Clustering):\")\n",
    "print(differentials_new[['web_name', 'selected_by_percent', 'expected_goals', 'expected_assists', 'form', 'total_points']])\n"
   ]
  },
  {
   "cell_type": "code",
   "execution_count": 3,
   "metadata": {},
   "outputs": [
    {
     "name": "stdout",
     "output_type": "stream",
     "text": [
      "\n",
      "Top Differential Players (Isolation Forest):\n",
      "      web_name  selected_by_percent  expected_goals  expected_assists  \\\n",
      "2      Gabriel             2.515869        1.542717         -0.292580   \n",
      "3      Havertz             2.482397        2.783968         -0.105695   \n",
      "10    Ødegaard             0.407154        0.478789          1.825457   \n",
      "11        Raya             4.775207       -0.427521         -0.448318   \n",
      "13        Saka             4.641320        2.330813          3.974641   \n",
      "..         ...                  ...             ...               ...   \n",
      "581     Romero             1.344361        1.010753          0.797586   \n",
      "585        Son             1.093323        2.291408          2.977918   \n",
      "600      Bowen             0.641456        0.715217          1.825457   \n",
      "605  Fabianski             2.248096       -0.427521         -0.479466   \n",
      "632      Cunha             0.005494        2.409622          2.012342   \n",
      "\n",
      "         form  total_points  \n",
      "2    3.528631      3.550584  \n",
      "3    1.278070      2.363704  \n",
      "10  -0.128531      0.108633  \n",
      "11   2.797199      3.194520  \n",
      "13   2.572143      3.431896  \n",
      "..        ...           ...  \n",
      "581  2.009502      1.770264  \n",
      "585  3.697423      3.194520  \n",
      "600  2.122030      1.888952  \n",
      "605 -0.578643     -0.603495  \n",
      "632  1.840710      1.532888  \n",
      "\n",
      "[66 rows x 6 columns]\n"
     ]
    }
   ],
   "source": [
    "from sklearn.ensemble import IsolationForest\n",
    "\n",
    "# Apply Isolation Forest model\n",
    "model = IsolationForest(contamination=0.1)  \n",
    "df_new['anomaly'] = model.fit_predict(df_new[numeric_columns])\n",
    "\n",
    "# Extract anomalies (overperforming differentials)\n",
    "differentials_anomalies_new = df_new[df_new['anomaly'] == -1]\n",
    "\n",
    "print(\"\\nTop Differential Players (Isolation Forest):\")\n",
    "print(differentials_anomalies_new[['web_name', 'selected_by_percent', 'expected_goals', 'expected_assists', 'form', 'total_points']])\n"
   ]
  },
  {
   "cell_type": "code",
   "execution_count": 7,
   "metadata": {},
   "outputs": [
    {
     "name": "stdout",
     "output_type": "stream",
     "text": [
      "\n",
      "🔥 Best Differentials for 2024-2025 FPL Gameweek 6 🔥\n",
      "             web_name  selected_by_percent  expected_goals  expected_assists  \\\n",
      "577          Maddison             0.356947        2.370218          8.428748   \n",
      "386         Luis Díaz             4.490697        4.754206          1.638571   \n",
      "260            McNeil             0.072438        0.045336          8.117272   \n",
      "405         De Bruyne             0.976173        1.956468          6.279564   \n",
      "201         N.Jackson             1.411304        5.581706         -0.043399   \n",
      "111            Mbeumo             1.879907        3.040099          3.507427   \n",
      "585               Son             1.093323        2.291408          2.977918   \n",
      "13               Saka             4.641320        2.330813          3.974641   \n",
      "61            Watkins             4.440490        5.680218         -0.043399   \n",
      "371  Alexander-Arnold             4.992772       -0.072878          5.750055   \n",
      "\n",
      "         form  total_points  differential_score  \n",
      "577  2.234558      2.363704           13.033524  \n",
      "386  6.060512      5.330903           12.453289  \n",
      "260  2.403350      2.126328           10.565959  \n",
      "405  1.446862      1.414200            9.682893  \n",
      "201  3.922479      3.431896            9.460786  \n",
      "111  2.797199      3.313208            9.344725  \n",
      "585  3.697423      3.194520            8.966749  \n",
      "13   2.572143      3.431896            8.877597  \n",
      "61   2.965991      2.601080            8.602809  \n",
      "371  2.684671      3.075832            8.361847  \n"
     ]
    }
   ],
   "source": [
    "# Combine differentials from both models\n",
    "final_differentials = pd.concat([differentials_new, differentials_anomalies_new]).drop_duplicates()\n",
    "\n",
    "# Rank by xG + xA + form\n",
    "final_differentials['differential_score'] = final_differentials['expected_goals'] + final_differentials['expected_assists'] + final_differentials['form']\n",
    "\n",
    "# Apply additional filters:\n",
    "filtered_differentials = final_differentials[\n",
    "    (final_differentials['selected_by_percent'] < 5) &  # Ownership < 5%\n",
    "    (final_differentials['expected_goals'] + final_differentials['expected_assists'] > 5.0) #&  # xG + xA > 5.0\n",
    "    # (final_differentials['form'] > 2.5)  # Form > 2.5\n",
    "]\n",
    "\n",
    "# Sort and pick top 10\n",
    "top_differentials = filtered_differentials.sort_values(by=\"differential_score\", ascending=False).head(10)\n",
    "\n",
    "print(\"\\n🔥 Best Differentials for 2024-2025 FPL Gameweek 6 🔥\")\n",
    "print(top_differentials[['web_name', 'selected_by_percent', 'expected_goals', 'expected_assists', 'form', 'total_points', 'differential_score']])\n"
   ]
  }
 ],
 "metadata": {
  "kernelspec": {
   "display_name": "myenv",
   "language": "python",
   "name": "python3"
  },
  "language_info": {
   "codemirror_mode": {
    "name": "ipython",
    "version": 3
   },
   "file_extension": ".py",
   "mimetype": "text/x-python",
   "name": "python",
   "nbconvert_exporter": "python",
   "pygments_lexer": "ipython3",
   "version": "3.12.2"
  }
 },
 "nbformat": 4,
 "nbformat_minor": 2
}
