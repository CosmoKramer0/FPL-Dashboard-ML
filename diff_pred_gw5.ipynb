{
 "cells": [
  {
   "cell_type": "code",
   "execution_count": 2,
   "metadata": {},
   "outputs": [
    {
     "name": "stdout",
     "output_type": "stream",
     "text": [
      "Missing values per column:\n",
      "now_cost               0\n",
      "expected_goals         0\n",
      "expected_assists       0\n",
      "total_points           0\n",
      "form                   0\n",
      "minutes                0\n",
      "selected_by_percent    0\n",
      "dtype: int64\n",
      "\n",
      "Rows with missing values:\n",
      "Empty DataFrame\n",
      "Columns: [assists, bonus, bps, chance_of_playing_next_round, chance_of_playing_this_round, clean_sheets, clean_sheets_per_90, code, corners_and_indirect_freekicks_order, corners_and_indirect_freekicks_text, cost_change_event, cost_change_event_fall, cost_change_start, cost_change_start_fall, creativity, creativity_rank, creativity_rank_type, direct_freekicks_order, direct_freekicks_text, dreamteam_count, element_type, ep_next, ep_this, event_points, expected_assists, expected_assists_per_90, expected_goal_involvements, expected_goal_involvements_per_90, expected_goals, expected_goals_conceded, expected_goals_conceded_per_90, expected_goals_per_90, first_name, form, form_rank, form_rank_type, goals_conceded, goals_conceded_per_90, goals_scored, ict_index, ict_index_rank, ict_index_rank_type, id, in_dreamteam, influence, influence_rank, influence_rank_type, minutes, news, news_added, now_cost, now_cost_rank, now_cost_rank_type, own_goals, penalties_missed, penalties_order, penalties_saved, penalties_text, photo, points_per_game, points_per_game_rank, points_per_game_rank_type, red_cards, region, saves, saves_per_90, second_name, selected_by_percent, selected_rank, selected_rank_type, special, squad_number, starts, starts_per_90, status, team, team_code, threat, threat_rank, threat_rank_type, total_points, transfers_in, transfers_in_event, transfers_out, transfers_out_event, value_form, value_season, web_name, yellow_cards]\n",
      "Index: []\n",
      "\n",
      "[0 rows x 89 columns]\n",
      "\n",
      "Data shape after dropping rows with missing values:\n",
      "(659, 7)\n",
      "Scaling complete!\n"
     ]
    }
   ],
   "source": [
    "import pandas as pd\n",
    "from sklearn.preprocessing import StandardScaler\n",
    "\n",
    "# Load 2024-25 GW1 data\n",
    "df_new = pd.read_csv(\"players_raw_24-25_postgw4.csv\")\n",
    "\n",
    "# Select relevant features (same as before)\n",
    "numeric_columns = ['now_cost', 'expected_goals', 'expected_assists', 'total_points', 'form', 'minutes', 'selected_by_percent']\n",
    "\n",
    "# Ensure all selected columns are numeric and check for coercion\n",
    "df_new[numeric_columns] = df_new[numeric_columns].apply(pd.to_numeric, errors='coerce')\n",
    "\n",
    "# Check how many NaN values exist in each column after coercion\n",
    "print(\"Missing values per column:\")\n",
    "print(df_new[numeric_columns].isnull().sum())\n",
    "\n",
    "# Inspect rows that have NaN values\n",
    "print(\"\\nRows with missing values:\")\n",
    "print(df_new[df_new[numeric_columns].isnull().any(axis=1)])\n",
    "\n",
    "# Drop rows with missing values after conversion\n",
    "df_new = df_new.dropna(subset=numeric_columns)\n",
    "\n",
    "# Check if we still have data left\n",
    "print(\"\\nData shape after dropping rows with missing values:\")\n",
    "print(df_new[numeric_columns].shape)\n",
    "\n",
    "# Scale the new data using the same scaler if there are rows left\n",
    "if df_new.shape[0] > 0:\n",
    "    scaler = StandardScaler()\n",
    "    df_new[numeric_columns] = scaler.fit_transform(df_new[numeric_columns])\n",
    "    print(\"Scaling complete!\")\n",
    "else:\n",
    "    print(\"No data available after dropping missing values.\")\n"
   ]
  },
  {
   "cell_type": "code",
   "execution_count": 3,
   "metadata": {},
   "outputs": [
    {
     "name": "stdout",
     "output_type": "stream",
     "text": [
      "\n",
      "Top Differential Players (K-Means Clustering):\n",
      "     web_name  selected_by_percent  expected_goals  expected_assists  \\\n",
      "5    J.Timber            -0.195275       -0.240273         -0.271337   \n",
      "12       Rice             0.120662        0.045797          0.246313   \n",
      "18   Trossard            -0.078877        0.212671          0.024463   \n",
      "21       Neto            -0.095506       -0.407147         -0.456212   \n",
      "31     Bailey            -0.128762        0.188832          0.431188   \n",
      "..        ...                  ...             ...               ...   \n",
      "632   Doherty            -0.344930       -0.216434         -0.160412   \n",
      "639  Hee Chan            -0.278417       -0.407147          0.098413   \n",
      "642   J.Gomes            -0.361558       -0.097238         -0.197387   \n",
      "647  Mosquera            -0.195275        0.379546         -0.382262   \n",
      "655      Toti            -0.344930       -0.407147          0.431188   \n",
      "\n",
      "         form  total_points  \n",
      "5    1.133299      1.173179  \n",
      "12  -0.248892     -0.272996  \n",
      "18   1.018117      1.028561  \n",
      "21   0.327021      0.305474  \n",
      "31  -0.133710     -0.128378  \n",
      "..        ...           ...  \n",
      "632 -0.421666     -0.417613  \n",
      "639 -0.018527      0.016239  \n",
      "642 -0.018527      0.016239  \n",
      "647 -0.421666     -0.417613  \n",
      "655 -0.248892     -0.272996  \n",
      "\n",
      "[148 rows x 6 columns]\n"
     ]
    }
   ],
   "source": [
    "from sklearn.cluster import KMeans\n",
    "\n",
    "# Apply K-Means model (use the same number of clusters as before)\n",
    "kmeans = KMeans(n_clusters=4, random_state=42)  \n",
    "df_new['cluster'] = kmeans.fit_predict(df_new[numeric_columns])\n",
    "\n",
    "# Extract differentials (low-ownership, high potential)\n",
    "differentials_new = df_new[(df_new['cluster'] == 0) & (df_new['selected_by_percent'] < 10)]\n",
    "\n",
    "print(\"\\nTop Differential Players (K-Means Clustering):\")\n",
    "print(differentials_new[['web_name', 'selected_by_percent', 'expected_goals', 'expected_assists', 'form', 'total_points']])\n"
   ]
  },
  {
   "cell_type": "code",
   "execution_count": 4,
   "metadata": {},
   "outputs": [
    {
     "name": "stdout",
     "output_type": "stream",
     "text": [
      "\n",
      "Top Differential Players (Isolation Forest):\n",
      "      web_name  selected_by_percent  expected_goals  expected_assists  \\\n",
      "2      Gabriel             1.667095        0.808651         -0.271337   \n",
      "3      Havertz             2.515139        3.335604         -0.012512   \n",
      "10    Ødegaard             0.719282        0.689455          2.279940   \n",
      "11        Raya             4.244483       -0.407147         -0.419237   \n",
      "13        Saka             4.610306        2.930338          3.315241   \n",
      "..         ...                  ...             ...               ...   \n",
      "598      Bowen             0.636140        0.689455          1.873215   \n",
      "603  Fabianski             2.165945       -0.407147         -0.456212   \n",
      "607      Kudus             0.536370        0.308028          2.242965   \n",
      "612     Souček             0.153919        3.049533          0.653039   \n",
      "630      Cunha             0.004264        2.954177          1.688340   \n",
      "\n",
      "         form  total_points  \n",
      "2    3.436953      3.487058  \n",
      "3    2.745857      2.763970  \n",
      "10   0.327021      0.305474  \n",
      "11   3.436953      3.487058  \n",
      "13   3.782501      3.776292  \n",
      "..        ...           ...  \n",
      "598  2.169943      2.185501  \n",
      "603 -0.594440     -0.562230  \n",
      "607  0.557386      0.594709  \n",
      "612  1.478847      1.462414  \n",
      "630  0.902934      0.883944  \n",
      "\n",
      "[66 rows x 6 columns]\n"
     ]
    }
   ],
   "source": [
    "from sklearn.ensemble import IsolationForest\n",
    "\n",
    "# Apply Isolation Forest model\n",
    "model = IsolationForest(contamination=0.1)  \n",
    "df_new['anomaly'] = model.fit_predict(df_new[numeric_columns])\n",
    "\n",
    "# Extract anomalies (overperforming differentials)\n",
    "differentials_anomalies_new = df_new[df_new['anomaly'] == -1]\n",
    "\n",
    "print(\"\\nTop Differential Players (Isolation Forest):\")\n",
    "print(differentials_anomalies_new[['web_name', 'selected_by_percent', 'expected_goals', 'expected_assists', 'form', 'total_points']])\n"
   ]
  },
  {
   "cell_type": "code",
   "execution_count": null,
   "metadata": {},
   "outputs": [
    {
     "name": "stdout",
     "output_type": "stream",
     "text": [
      "\n",
      "🔥 Best Differentials for 2024-2025 FPL Gameweek 3 🔥\n",
      "             web_name  selected_by_percent  expected_goals  expected_assists  \\\n",
      "403         De Bruyne             1.450927        2.477393          7.567370   \n",
      "259            McNeil            -0.211904       -0.144916          8.491746   \n",
      "385         Luis Díaz             3.213528        4.456045          1.725315   \n",
      "13               Saka             4.610306        2.930338          3.315241   \n",
      "111            Mbeumo             1.051848        2.262841          4.202642   \n",
      "86            Semenyo             0.636140        2.715785          4.461467   \n",
      "122             Wissa             0.952078        5.385773          0.542113   \n",
      "370  Alexander-Arnold             4.892987        0.021958          6.458119   \n",
      "61            Watkins             3.579351        6.172466         -0.160412   \n",
      "575          Maddison             0.320202        0.784812          6.125344   \n",
      "\n",
      "         form  total_points  differential_score  \n",
      "403  1.881987      1.896266           11.926750  \n",
      "259  2.457900      2.474736           10.804730  \n",
      "385  4.358414      4.354762           10.539773  \n",
      "13   3.782501      3.776292           10.028079  \n",
      "111  3.033813      3.053205            9.499296  \n",
      "86   2.169943      2.185501            9.347196  \n",
      "122  3.321770      3.342440            9.249656  \n",
      "370  2.285126      2.330118            8.765203  \n",
      "61   2.457900      2.474736            8.469953  \n",
      "575  1.306073      1.317796            8.216229  \n"
     ]
    }
   ],
   "source": [
    "# Combine differentials from both models\n",
    "final_differentials = pd.concat([differentials_new, differentials_anomalies_new]).drop_duplicates()\n",
    "\n",
    "# Rank by xG + xA + form\n",
    "final_differentials['differential_score'] = final_differentials['expected_goals'] + final_differentials['expected_assists'] + final_differentials['form']\n",
    "\n",
    "# Apply additional filters:\n",
    "filtered_differentials = final_differentials[\n",
    "    (final_differentials['selected_by_percent'] < 5) &  # Ownership < 5%\n",
    "    (final_differentials['expected_goals'] + final_differentials['expected_assists'] > 5.0) #&  # xG + xA > 5.0\n",
    "    # (final_differentials['form'] > 2.5)  # Form > 2.5\n",
    "]\n",
    "\n",
    "# Sort and pick top 10\n",
    "top_differentials = filtered_differentials.sort_values(by=\"differential_score\", ascending=False).head(10)\n",
    "\n",
    "print(\"\\n🔥 Best Differentials for 2024-2025 FPL Gameweek 5 🔥\")\n",
    "print(top_differentials[['web_name', 'selected_by_percent', 'expected_goals', 'expected_assists', 'form', 'total_points', 'differential_score']])\n"
   ]
  }
 ],
 "metadata": {
  "kernelspec": {
   "display_name": "myenv",
   "language": "python",
   "name": "python3"
  },
  "language_info": {
   "codemirror_mode": {
    "name": "ipython",
    "version": 3
   },
   "file_extension": ".py",
   "mimetype": "text/x-python",
   "name": "python",
   "nbconvert_exporter": "python",
   "pygments_lexer": "ipython3",
   "version": "3.12.2"
  }
 },
 "nbformat": 4,
 "nbformat_minor": 2
}
